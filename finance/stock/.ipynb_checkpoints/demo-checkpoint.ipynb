{
 "cells": [
  {
   "cell_type": "code",
   "execution_count": 1,
   "metadata": {},
   "outputs": [],
   "source": [
    "%matplotlib inline\n",
    "import matplotlib.pyplot as plt\n",
    "import numpy as np\n",
    "import pandas as pd\n",
    "import pandas_datareader.data as web\n",
    "import datetime"
   ]
  },
  {
   "cell_type": "markdown",
   "metadata": {},
   "source": [
    "# 選擇標的"
   ]
  },
  {
   "cell_type": "code",
   "execution_count": 13,
   "metadata": {},
   "outputs": [],
   "source": [
    "start = datetime.datetime(2008, 1, 1)\n",
    "end = datetime.datetime.now()\n",
    "df = web.DataReader('GOOGL', 'morningstar', start, end)\n",
    "# Apple: AAPL\n",
    "# Amazon: AMZN\n",
    "# Facebook: FB\n",
    "# Microsoft: MSFT\n",
    "# Google: GOOGL"
   ]
  },
  {
   "cell_type": "code",
   "execution_count": 14,
   "metadata": {},
   "outputs": [
    {
     "data": {
      "text/html": [
       "<div>\n",
       "<style scoped>\n",
       "    .dataframe tbody tr th:only-of-type {\n",
       "        vertical-align: middle;\n",
       "    }\n",
       "\n",
       "    .dataframe tbody tr th {\n",
       "        vertical-align: top;\n",
       "    }\n",
       "\n",
       "    .dataframe thead th {\n",
       "        text-align: right;\n",
       "    }\n",
       "</style>\n",
       "<table border=\"1\" class=\"dataframe\">\n",
       "  <thead>\n",
       "    <tr style=\"text-align: right;\">\n",
       "      <th></th>\n",
       "      <th></th>\n",
       "      <th>Close</th>\n",
       "      <th>High</th>\n",
       "      <th>Low</th>\n",
       "      <th>Open</th>\n",
       "      <th>Volume</th>\n",
       "    </tr>\n",
       "    <tr>\n",
       "      <th>Symbol</th>\n",
       "      <th>Date</th>\n",
       "      <th></th>\n",
       "      <th></th>\n",
       "      <th></th>\n",
       "      <th></th>\n",
       "      <th></th>\n",
       "    </tr>\n",
       "  </thead>\n",
       "  <tbody>\n",
       "    <tr>\n",
       "      <th rowspan=\"5\" valign=\"top\">GOOGL</th>\n",
       "      <th>2008-01-01</th>\n",
       "      <td>346.0750</td>\n",
       "      <td>351.5853</td>\n",
       "      <td>345.6246</td>\n",
       "      <td>349.6234</td>\n",
       "      <td>0</td>\n",
       "    </tr>\n",
       "    <tr>\n",
       "      <th>2008-01-02</th>\n",
       "      <td>342.9270</td>\n",
       "      <td>349.0229</td>\n",
       "      <td>339.1934</td>\n",
       "      <td>346.7707</td>\n",
       "      <td>8605357</td>\n",
       "    </tr>\n",
       "    <tr>\n",
       "      <th>2008-01-03</th>\n",
       "      <td>342.9970</td>\n",
       "      <td>343.7578</td>\n",
       "      <td>338.5878</td>\n",
       "      <td>342.9620</td>\n",
       "      <td>6498595</td>\n",
       "    </tr>\n",
       "    <tr>\n",
       "      <th>2008-01-04</th>\n",
       "      <td>328.8183</td>\n",
       "      <td>340.8099</td>\n",
       "      <td>327.8173</td>\n",
       "      <td>340.1743</td>\n",
       "      <td>10709081</td>\n",
       "    </tr>\n",
       "    <tr>\n",
       "      <th>2008-01-07</th>\n",
       "      <td>324.9395</td>\n",
       "      <td>331.4609</td>\n",
       "      <td>318.9838</td>\n",
       "      <td>327.2868</td>\n",
       "      <td>12794546</td>\n",
       "    </tr>\n",
       "  </tbody>\n",
       "</table>\n",
       "</div>"
      ],
      "text/plain": [
       "                      Close      High       Low      Open    Volume\n",
       "Symbol Date                                                        \n",
       "GOOGL  2008-01-01  346.0750  351.5853  345.6246  349.6234         0\n",
       "       2008-01-02  342.9270  349.0229  339.1934  346.7707   8605357\n",
       "       2008-01-03  342.9970  343.7578  338.5878  342.9620   6498595\n",
       "       2008-01-04  328.8183  340.8099  327.8173  340.1743  10709081\n",
       "       2008-01-07  324.9395  331.4609  318.9838  327.2868  12794546"
      ]
     },
     "execution_count": 14,
     "metadata": {},
     "output_type": "execute_result"
    }
   ],
   "source": [
    "df.head()"
   ]
  },
  {
   "cell_type": "code",
   "execution_count": 12,
   "metadata": {},
   "outputs": [
    {
     "data": {
      "text/html": [
       "<div>\n",
       "<style scoped>\n",
       "    .dataframe tbody tr th:only-of-type {\n",
       "        vertical-align: middle;\n",
       "    }\n",
       "\n",
       "    .dataframe tbody tr th {\n",
       "        vertical-align: top;\n",
       "    }\n",
       "\n",
       "    .dataframe thead th {\n",
       "        text-align: right;\n",
       "    }\n",
       "</style>\n",
       "<table border=\"1\" class=\"dataframe\">\n",
       "  <thead>\n",
       "    <tr style=\"text-align: right;\">\n",
       "      <th></th>\n",
       "      <th>Close</th>\n",
       "      <th>High</th>\n",
       "      <th>Low</th>\n",
       "      <th>Open</th>\n",
       "      <th>Volume</th>\n",
       "    </tr>\n",
       "  </thead>\n",
       "  <tbody>\n",
       "    <tr>\n",
       "      <th>count</th>\n",
       "      <td>2115.000000</td>\n",
       "      <td>2115.000000</td>\n",
       "      <td>2115.000000</td>\n",
       "      <td>2115.000000</td>\n",
       "      <td>2.115000e+03</td>\n",
       "    </tr>\n",
       "    <tr>\n",
       "      <th>mean</th>\n",
       "      <td>533.934332</td>\n",
       "      <td>538.030007</td>\n",
       "      <td>529.625739</td>\n",
       "      <td>534.078277</td>\n",
       "      <td>3.173982e+06</td>\n",
       "    </tr>\n",
       "    <tr>\n",
       "      <th>std</th>\n",
       "      <td>240.659635</td>\n",
       "      <td>242.032604</td>\n",
       "      <td>239.014854</td>\n",
       "      <td>240.632205</td>\n",
       "      <td>2.701645e+06</td>\n",
       "    </tr>\n",
       "    <tr>\n",
       "      <th>min</th>\n",
       "      <td>218.246300</td>\n",
       "      <td>221.356400</td>\n",
       "      <td>217.025100</td>\n",
       "      <td>219.382400</td>\n",
       "      <td>0.000000e+00</td>\n",
       "    </tr>\n",
       "    <tr>\n",
       "      <th>25%</th>\n",
       "      <td>305.385600</td>\n",
       "      <td>308.216850</td>\n",
       "      <td>302.670500</td>\n",
       "      <td>305.308050</td>\n",
       "      <td>1.526186e+06</td>\n",
       "    </tr>\n",
       "    <tr>\n",
       "      <th>50%</th>\n",
       "      <td>529.712800</td>\n",
       "      <td>533.900000</td>\n",
       "      <td>525.008200</td>\n",
       "      <td>529.900000</td>\n",
       "      <td>2.168813e+06</td>\n",
       "    </tr>\n",
       "    <tr>\n",
       "      <th>75%</th>\n",
       "      <td>731.255000</td>\n",
       "      <td>736.930000</td>\n",
       "      <td>724.202500</td>\n",
       "      <td>733.770000</td>\n",
       "      <td>4.196928e+06</td>\n",
       "    </tr>\n",
       "    <tr>\n",
       "      <th>max</th>\n",
       "      <td>1187.560000</td>\n",
       "      <td>1198.000000</td>\n",
       "      <td>1184.060000</td>\n",
       "      <td>1188.000000</td>\n",
       "      <td>2.962074e+07</td>\n",
       "    </tr>\n",
       "  </tbody>\n",
       "</table>\n",
       "</div>"
      ],
      "text/plain": [
       "             Close         High          Low         Open        Volume\n",
       "count  2115.000000  2115.000000  2115.000000  2115.000000  2.115000e+03\n",
       "mean    533.934332   538.030007   529.625739   534.078277  3.173982e+06\n",
       "std     240.659635   242.032604   239.014854   240.632205  2.701645e+06\n",
       "min     218.246300   221.356400   217.025100   219.382400  0.000000e+00\n",
       "25%     305.385600   308.216850   302.670500   305.308050  1.526186e+06\n",
       "50%     529.712800   533.900000   525.008200   529.900000  2.168813e+06\n",
       "75%     731.255000   736.930000   724.202500   733.770000  4.196928e+06\n",
       "max    1187.560000  1198.000000  1184.060000  1188.000000  2.962074e+07"
      ]
     },
     "execution_count": 12,
     "metadata": {},
     "output_type": "execute_result"
    }
   ],
   "source": [
    "df.describe()"
   ]
  },
  {
   "cell_type": "code",
   "execution_count": 17,
   "metadata": {},
   "outputs": [
    {
     "data": {
      "text/plain": [
       "<matplotlib.axes._subplots.AxesSubplot at 0x116bb3780>"
      ]
     },
     "execution_count": 17,
     "metadata": {},
     "output_type": "execute_result"
    },
    {
     "data": {
      "image/png": "[encoded data removed]",
      "text/plain": [
       "<matplotlib.figure.Figure at 0x1165df278>"
      ]
     },
     "metadata": {},
     "output_type": "display_data"
    }
   ],
   "source": [
    "close = df['Close']\n",
    "close.plot()"
   ]
  },
  {
   "cell_type": "markdown",
   "metadata": {},
   "source": [
    "# 投資報酬率"
   ]
  },
  {
   "cell_type": "markdown",
   "metadata": {},
   "source": [
    "# $ \\frac{P_t - P_{t - 1}}{P_{t - 1}} $"
   ]
  },
  {
   "cell_type": "code",
   "execution_count": null,
   "metadata": {},
   "outputs": [],
   "source": []
  }
 ],
 "metadata": {
  "kernelspec": {
   "display_name": "Python 3",
   "language": "python",
   "name": "python3"
  },
  "language_info": {
   "codemirror_mode": {
    "name": "ipython",
    "version": 3
   },
   "file_extension": ".py",
   "mimetype": "text/x-python",
   "name": "python",
   "nbconvert_exporter": "python",
   "pygments_lexer": "ipython3",
   "version": "3.5.4"
  }
 },
 "nbformat": 4,
 "nbformat_minor": 2
}
